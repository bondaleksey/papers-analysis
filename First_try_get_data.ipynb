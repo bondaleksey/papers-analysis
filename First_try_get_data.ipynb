{
 "cells": [
  {
   "cell_type": "code",
   "execution_count": 1,
   "id": "1e7a166d",
   "metadata": {},
   "outputs": [],
   "source": [
    "import requests"
   ]
  },
  {
   "cell_type": "code",
   "execution_count": 2,
   "id": "6976c8af",
   "metadata": {},
   "outputs": [],
   "source": [
    "page_link = \"https://elibrary.ru/item.asp?id=48086462\""
   ]
  },
  {
   "cell_type": "code",
   "execution_count": 3,
   "id": "7d663b6a",
   "metadata": {},
   "outputs": [],
   "source": [
    "# from fake_useragent import UserAgent\n",
    "headers = {'User-Agent': 'Mozilla/5.0 (Macintosh; Intel Mac OS X 10_10_1) AppleWebKit/537.36 (KHTML, like Gecko) Chrome/39.0.2171.95 Safari/537.36'}"
   ]
  },
  {
   "cell_type": "code",
   "execution_count": 4,
   "id": "64ecb9cd",
   "metadata": {},
   "outputs": [
    {
     "data": {
      "text/plain": [
       "<Response [200]>"
      ]
     },
     "execution_count": 4,
     "metadata": {},
     "output_type": "execute_result"
    }
   ],
   "source": [
    "response = requests.get(page_link, headers=headers)\n",
    "response"
   ]
  },
  {
   "cell_type": "code",
   "execution_count": 5,
   "id": "9d80af60",
   "metadata": {},
   "outputs": [],
   "source": [
    "html = response.content"
   ]
  },
  {
   "cell_type": "code",
   "execution_count": 6,
   "id": "4e58cba4",
   "metadata": {},
   "outputs": [
    {
     "data": {
      "text/plain": [
       "b'\\r\\n\\r\\n<!DOCTYPE html>\\r\\n<html>\\r\\n<head>\\r\\n\\r\\n<meta name=\"robots\" content=\"noarchive\">\\r\\n\\r\\n<meta name=\"description\" content=\\'\\xd0\\x91\\xd0\\xb5\\xd0\\xb7\\xd0\\xbe\\xd0\\xbf\\xd0\\xb0\\xd1\\x81\\xd0\\xbd\\xd0\\xb0\\xd1\\x8f \\xd0\\xbe\\xd1\\x82\\xd0\\xb5\\xd1\\x87\\xd0\\xb5\\xd1\\x81\\xd1\\x82\\xd0\\xb2\\xd0\\xb5\\xd0\\xbd\\xd0\\xbd\\xd0\\xb0\\xd1\\x8f \\xd0\\xbe\\xd0\\xbf\\xd0\\xb5\\xd1\\x80\\xd0\\xb0\\xd1\\x86\\xd0\\xb8\\xd0\\xbe\\xd0\\xbd\\xd0\\xbd\\xd0\\xb0\\xd1\\x8f \\xd1\\x81\\xd0\\xb8\\xd1\\x81\\xd1\\x82\\xd0\\xb5\\xd0\\xbc\\xd0\\xb0, \\xd0\\xbd\\xd0\\xb0\\xd0\\xb4\\xd0\\xb5\\xd0\\xb6\\xd0\\xbd\\xd1\\x8b\\xd0\\xb5 \\xd0\\xbf\\xd1\\x80\\xd0\\xb8\\xd0\\xbb\\xd0\\xbe\\xd0\\xb6\\xd0\\xb5\\xd0\\xbd\\xd0\\xb8\\xd1\\x8f, \\xd0\\xbf\\xd0\\xb5\\xd1\\x80\\xd0\\xb5\\xd0\\xbc\\xd0\\xb5\\xd0\\xbd\\xd0\\xbd\\xd1\\x8b\\xd0\\xb5 \\xd0\\xb2\\xd0\\xbc\\xd0\\xb5\\xd1\\x81\\xd1\\x82\\xd0\\xbe \\xd1\\x84\\xd0\\xb0\\xd0\\xb9\\xd0\\xbb\\xd0\\xbe\\xd0\\xb2\\xd0\\xbe\\xd0\\xb9 \\xd1\\x81\\xd0\\xb8\\xd1\\x81\\xd1\\x82\\xd0\\xb5\\xd0\\xbc\\xd1\\x8b, \\xd0\\xb3\\xd0\\xb0\\xd1\\x80\\xd0\\xb0\\xd0\\xbd\\xd1\\x82\\xd0\\xb8\\xd1\\x80\\xd0\\xbe\\xd0\\xb2\\xd0\\xb0\\xd0\\xbd\\xd0\\xbd\\xd0\\xb0\\xd1\\x8f \\xd1\\x81\\xd0\\xbe\\xd1\\x85\\xd1\\x80\\xd0\\xb0\\xd0\\xbd\\xd0\\xbd\\xd0\\xbe\\xd1\\x81\\xd1\\x82\\xd1\\x8c \\xd0\\xb4\\xd0\\xb0\\xd0\\xbd\\xd0\\xbd\\xd1\\x8b\\xd1\\x85, \\xd0\\xbd\\xd0\\xb8\\xd0\\xb7\\xd0\\xba\\xd0\\xb0\\xd1\\x8f \\xd1\\x81\\xd1\\x82\\xd0\\xbe\\xd0\\xb8\\xd0\\xbc\\xd0\\xbe\\xd1\\x81\\xd1\\x82\\xd1\\x8c \\xd0\\xbf\\xd1\\x80\\xd0\\xbe\\xd0\\xb3\\xd1\\x80\\xd0\\xb0\\xd0\\xbc\\xd0\\xbc\\xd0\\xb8\\xd1\\x80\\xd0\\xbe\\xd0\\xb2\\xd0\\xb0\\xd0\\xbd\\xd0\\xb8\\xd1\\x8f - \\xd0\\x9e\\xd0\\xa1 \\xc2\\xab\\xd0\\xa4\\xd0\\xb0\\xd0\\xbd\\xd1\\x82\\xd0\\xbe\\xd0\\xbc\\xc2\\xbb.\\'>\\r\\n<title>\\xd0\\x9f\\xd0\\xbe\\xd0\\xbb\\xd1\\x88\\xd0\\xb0\\xd0\\xb3\\xd0\\xb0 \\xd0\\xb4\\xd0\\xbe \"\\xd0\\xa4\\xd0\\xb0\\xd0\\xbd\\xd1\\x82\\xd0\\xbe\\xd0\\xbc\\xd0\\xb0\"</title>\\r\\n<meta property=\"og:image\" content=\"https://elibrary.ru/images/elibrary_fb.png\">\\r\\n<meta name=\"viewport\" content=\"width=device-width, initial-scale=1.0, maximum-scale=1.0, user-scalable=yes\">\\r\\n\\r\\n\\r\\n<meta name=\"doi\" content=\"10.51793/OS.2022.13.25.001\">\\r\\n\\r\\n\\r\\n<script type=\"text/javascript\" src=\"/jquery.min.js\"></script>\\r\\n<script type=\"text/javascript\" src=\"/jquery.tools.min.js\"></script>\\r\\n<script type=\"text/javascript\" src=\"/fancybox/jquery.fancybox-1.3.4.pack.js\"></script>\\r'"
      ]
     },
     "execution_count": 6,
     "metadata": {},
     "output_type": "execute_result"
    }
   ],
   "source": [
    "html[:1000]"
   ]
  },
  {
   "cell_type": "code",
   "execution_count": 7,
   "id": "6b086d1e",
   "metadata": {},
   "outputs": [
    {
     "data": {
      "text/plain": [
       "64927"
      ]
     },
     "execution_count": 7,
     "metadata": {},
     "output_type": "execute_result"
    }
   ],
   "source": [
    "len(html)"
   ]
  },
  {
   "cell_type": "code",
   "execution_count": 8,
   "id": "619b8f29",
   "metadata": {},
   "outputs": [],
   "source": [
    "from bs4 import BeautifulSoup\n"
   ]
  },
  {
   "cell_type": "code",
   "execution_count": 9,
   "id": "33fbe84a",
   "metadata": {},
   "outputs": [],
   "source": [
    "soup = BeautifulSoup(html, 'html.parser')"
   ]
  },
  {
   "cell_type": "code",
   "execution_count": 10,
   "id": "6e09cb0f",
   "metadata": {},
   "outputs": [
    {
     "name": "stdout",
     "output_type": "stream",
     "text": [
      "<!DOCTYPE html>\n",
      "<html>\n",
      " <head>\n",
      "  <meta content=\"noarchive\" name=\"robots\"/>\n",
      "  <meta content=\"Безопасная отечественная операционная система, надежные приложения, переменные вместо файловой системы, гарантированная сохранность данных, низкая стоимость программирования - ОС «Фантом».\" name=\"description\"/>\n",
      "  <title>\n",
      "   Полшага до \"Фантома\"\n",
      "  </title>\n",
      "  <meta content=\"https://elibrary.ru/images/elibrary_fb.png\" property=\"og:image\"/>\n",
      "  <meta content=\"width=device-width, initial-scale=1.0, maximum-scale=1.0, user-scalable=yes\" name=\"viewport\"/>\n",
      "  <meta content=\"10.51793/OS.2022.13.25.001\" name=\"doi\"/>\n",
      "  <script src=\"/jquery.min.js\" type=\"text/javascript\">\n",
      "  </script>\n",
      "  <script src=\"/jquery.tools.min.js\" type=\"text/javascript\">\n",
      "  </script>\n",
      "  <script src=\"/fancybox/jquery.fancybox-1.3.4.pack.js\" type=\"text/javascript\">\n",
      "  </script>\n",
      "  <script src=\"/fancybox/jquery.easydrag.js\" type=\"text/javascript\">\n",
      "  </script>\n",
      "  <script src=\"/elibrary.js\" type=\"text/javascript\">\n",
      "  </script>\n",
      "  <script src=\"/MathJax/MathJax.js?config=TeX-AMS-MML_HTMLorMML\" type=\"text/javascript\">\n",
      "  </script>\n",
      "  <link href=\"/fancybox/jquery.fancybox-1.3.4.css\" media=\"screen\" rel=\"stylesheet\" type=\"text/css\"/>\n",
      "  <link href=\"/style_sm.css\" media=\"screen\" rel=\"stylesheet\" type=\"text/css\"/>\n",
      "  <script language=\"JavaScript\">\n",
      "   but_blue_hover=new Image();\n",
      "but_blue_hover.src=\"/images/but_blue_hover.png\";\n",
      "but_red_hover=new Image();\n",
      "but_red_hover.src=\"/images/but_red_hover.png\";\n",
      "but_gray_hover=new Image();\n",
      "but_gray_hover.src=\"/images/but_gray_hover.png\";\n",
      "ref_down=new Image();\n",
      "ref_down.src=\"/images/but_orange_down.gif\";\n",
      "ref_up=new Image();\n",
      "ref_up.src=\"/images/but_orange_up.gif\";\n",
      "comment_exist=new Image();\n",
      "comment_exist.src=\"/images/comments-r.png\";\n",
      "comment_absent=new Image();\n",
      "comment_absent.src=\"/images/comments-g.png\";\n",
      "\n",
      "function load_article(iid){\n",
      "\n",
      "  alerts(\"Для доступа к полному тексту необходимо вначале войти в библиотеку!\");\n",
      "  document.getElementById(\"win_login\").className = \"expanded\";\n",
      "  document.ge\n"
     ]
    }
   ],
   "source": [
    "print(soup.prettify()[:2000])"
   ]
  },
  {
   "cell_type": "code",
   "execution_count": 11,
   "id": "4bd020fb",
   "metadata": {},
   "outputs": [
    {
     "data": {
      "text/plain": [
       "<meta content=\"noarchive\" name=\"robots\"/>"
      ]
     },
     "execution_count": 11,
     "metadata": {},
     "output_type": "execute_result"
    }
   ],
   "source": [
    "soup.html.head.meta"
   ]
  },
  {
   "cell_type": "code",
   "execution_count": 12,
   "id": "41ab9690",
   "metadata": {},
   "outputs": [],
   "source": [
    "import pickle"
   ]
  },
  {
   "cell_type": "code",
   "execution_count": 15,
   "id": "ba944458",
   "metadata": {},
   "outputs": [],
   "source": [
    "filename = \"./data/second_page.pkl\"\n",
    "with open(filename,'wb') as outp:\n",
    "    pickle.dump(html, outp, pickle.HIGHEST_PROTOCOL)"
   ]
  },
  {
   "cell_type": "code",
   "execution_count": null,
   "id": "9223cc01",
   "metadata": {},
   "outputs": [],
   "source": []
  }
 ],
 "metadata": {
  "kernelspec": {
   "display_name": "Python 3",
   "language": "python",
   "name": "python3"
  },
  "language_info": {
   "codemirror_mode": {
    "name": "ipython",
    "version": 3
   },
   "file_extension": ".py",
   "mimetype": "text/x-python",
   "name": "python",
   "nbconvert_exporter": "python",
   "pygments_lexer": "ipython3",
   "version": "3.9.12"
  }
 },
 "nbformat": 4,
 "nbformat_minor": 5
}
