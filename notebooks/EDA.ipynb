{
 "cells": [
  {
   "cell_type": "code",
   "execution_count": 1,
   "metadata": {},
   "outputs": [],
   "source": [
    "import pandas as pd\n",
    "import pickle\n",
    "import matplotlib.pyplot as plt\n",
    "from matplotlib.style import use "
   ]
  },
  {
   "cell_type": "code",
   "execution_count": 2,
   "metadata": {},
   "outputs": [],
   "source": [
    "from data_types import AuthorsDB\n",
    "from data_types import PublicationsDB\n",
    "from data_types import AbstractsDB\n"
   ]
  },
  {
   "cell_type": "markdown",
   "metadata": {},
   "source": [
    "## Load Data"
   ]
  },
  {
   "cell_type": "code",
   "execution_count": 3,
   "metadata": {},
   "outputs": [],
   "source": [
    "audb = AuthorsDB()\n",
    "audb.load()\n",
    "pubdb = PublicationsDB()\n",
    "pubdb.load()\n",
    "absdb = AbstractsDB()\n",
    "absdb.load()\n",
    "\n",
    "filename = \"../data/mnid_author_dict.pkl\"\n",
    "with open(filename,'rb') as inp:\n",
    "    authors_dict = pickle.load(inp)"
   ]
  },
  {
   "cell_type": "markdown",
   "metadata": {},
   "source": [
    "# EDA"
   ]
  },
  {
   "cell_type": "markdown",
   "metadata": {},
   "source": [
    "Plan for the EDA to answer these questions:\n",
    "- How many authors are we trying to get and how many have we already received?\n",
    "- How many papers abstracts we already received?\n",
    "- What are distributions by years: \n",
    "  - published papers\n",
    "  - ?\n",
    "- What are distributions by author:\n",
    "  - number of papers,\n",
    "  - number of coauthors,\n",
    "  - ?"
   ]
  },
  {
   "cell_type": "markdown",
   "metadata": {},
   "source": [
    "# 1 Simple questions about data \n",
    "Count All and None values"
   ]
  },
  {
   "cell_type": "markdown",
   "metadata": {},
   "source": [
    "## 1.1 Databases  "
   ]
  },
  {
   "cell_type": "markdown",
   "metadata": {},
   "source": [
    "### 1.1.1 Authors data structures\n",
    " - authors_dict - Name and mathnet_id\n",
    " - audb - Author and his papers"
   ]
  },
  {
   "cell_type": "code",
   "execution_count": 4,
   "metadata": {},
   "outputs": [
    {
     "name": "stdout",
     "output_type": "stream",
     "text": [
      "('29400', 'Абалакин Илья Владимирович')\n",
      "('25875', 'Авдуевский Всеволод Сергеевич')\n",
      "('79709', 'Агапов Владимир Михайлович')\n",
      "('37981', 'Агафонов С И')\n",
      "('39797', 'Агаян В М')\n"
     ]
    }
   ],
   "source": [
    "\n",
    "for item in list(authors_dict.items())[:5]:    \n",
    "    print(item)"
   ]
  },
  {
   "cell_type": "code",
   "execution_count": 5,
   "metadata": {},
   "outputs": [
    {
     "name": "stdout",
     "output_type": "stream",
     "text": [
      "0\n",
      "mm4353\n",
      "{'year': '2022', 'nrf': 2}\n",
      "1\n",
      "mm4312\n",
      "{'year': '2021', 'nrf': 2}\n",
      "2\n",
      "zvmmf11279\n",
      "{'year': '2021', 'nrf': 1}\n",
      "3\n",
      "crm838\n",
      "{'year': '2020', 'nrf': 1}\n"
     ]
    }
   ],
   "source": [
    "mn_id = \"29400\"\n",
    "for ind, item in enumerate(audb.db['29400']):\n",
    "    if ind < 4:\n",
    "        print(ind)\n",
    "        print(item)\n",
    "        print(audb.db['29400'][item])    "
   ]
  },
  {
   "cell_type": "markdown",
   "metadata": {},
   "source": [
    "Number of authors"
   ]
  },
  {
   "cell_type": "code",
   "execution_count": 6,
   "metadata": {},
   "outputs": [
    {
     "name": "stdout",
     "output_type": "stream",
     "text": [
      "Number of received authors 871\n",
      "Number of authors in list  871\n",
      "Percent of received authors = 100.0%\n"
     ]
    }
   ],
   "source": [
    "print(f\"Number of received authors {len(audb.db.keys())}\")\n",
    "print(f\"Number of authors in list  {len(authors_dict.keys())}\")\n",
    "print(f\"Percent of received authors = {round(100*(len(audb.db.keys())/len(authors_dict.keys())),1)}%\")"
   ]
  },
  {
   "cell_type": "markdown",
   "metadata": {},
   "source": [
    "### 1.1.2 Pandas DataFrame with main publication info"
   ]
  },
  {
   "cell_type": "code",
   "execution_count": 7,
   "metadata": {},
   "outputs": [],
   "source": [
    "pub = pd.DataFrame.from_dict(pubdb.db,orient='index')"
   ]
  },
  {
   "cell_type": "code",
   "execution_count": 8,
   "metadata": {},
   "outputs": [],
   "source": [
    "# pubdb.db['vyurv1']['reference'] = 'А. А. Бондаренко, М. В. Якобовский, “Моделирование отказов в высокопроизводительных вычислительных системах в рамках стандарта MPI и его расширения ULFM”, Вестн. ЮУрГУ. Сер. Выч. матем. информ., 4:3 (2015), 5–12'\n",
    "# pubdb.db['vyurv213']['reference'] = 'А. А. Бондаренко, П. А. Ляхов, М. В. Якобовский, “Координированное сохранение с журналированием передаваемых данных и асинхронное восстановление в случае отказа”, Вестн. ЮУрГУ. Сер. Выч. матем. информ., 8:2 (2019), 76–91'\n",
    "# pubdb.db['vyurv46']['reference'] = 'А. А. Бондаренко, М. В. Якобовский, “Обеспечение отказоустойчивости высокопроизводительных вычислений с помощью локальных контрольных точек”, Вестн. ЮУрГУ. Сер. Выч. матем. информ., 3:3 (2014),  20–36'"
   ]
  },
  {
   "cell_type": "code",
   "execution_count": 9,
   "metadata": {},
   "outputs": [],
   "source": [
    "# print(pubdb.db['vyurv1']['reference'])"
   ]
  },
  {
   "cell_type": "code",
   "execution_count": 10,
   "metadata": {},
   "outputs": [],
   "source": [
    "# pubdb.save()"
   ]
  },
  {
   "cell_type": "code",
   "execution_count": 11,
   "metadata": {},
   "outputs": [
    {
     "name": "stdout",
     "output_type": "stream",
     "text": [
      "<class 'pandas.core.frame.DataFrame'>\n",
      "Index: 7597 entries, vyurv213 to vmumm4420\n",
      "Data columns (total 13 columns):\n",
      " #   Column     Non-Null Count  Dtype \n",
      "---  ------     --------------  ----- \n",
      " 0   author_id  7597 non-null   object\n",
      " 1   doi        1624 non-null   object\n",
      " 2   udk        3119 non-null   object\n",
      " 3   send       2844 non-null   object\n",
      " 4   type       5398 non-null   object\n",
      " 5   reference  7597 non-null   object\n",
      " 6   by         7081 non-null   object\n",
      " 7   paper      7081 non-null   object\n",
      " 8   jour       7025 non-null   object\n",
      " 9   yr         7081 non-null   object\n",
      " 10  vol        4534 non-null   object\n",
      " 11  issue      4605 non-null   object\n",
      " 12  pages      4707 non-null   object\n",
      "dtypes: object(13)\n",
      "memory usage: 830.9+ KB\n"
     ]
    }
   ],
   "source": [
    "pub.info()"
   ]
  },
  {
   "cell_type": "code",
   "execution_count": 12,
   "metadata": {},
   "outputs": [],
   "source": [
    "# pub.loc['vyurv1']['reference'] = 'А. А. Бондаренко, М. В. Якобовский, “Моделирование отказов в высокопроизводительных вычислительных системах в рамках стандарта MPI и его расширения ULFM”, Вестн. ЮУрГУ. Сер. Выч. матем. информ., 4:3 (2015), 5–12'\n",
    "# pub.loc['vyurv213']['reference'] = 'А. А. Бондаренко, П. А. Ляхов, М. В. Якобовский, “Координированное сохранение с журналированием передаваемых данных и асинхронное восстановление в случае отказа”, Вестн. ЮУрГУ. Сер. Выч. матем. информ., 8:2 (2019), 76–91'\n",
    "# pub.loc['vyurv46']['reference'] = 'А. А. Бондаренко, М. В. Якобовский, “Обеспечение отказоустойчивости высокопроизводительных вычислений с помощью локальных контрольных точек”, Вестн. ЮУрГУ. Сер. Выч. матем. информ., 3:3 (2014),  20–36'"
   ]
  },
  {
   "cell_type": "code",
   "execution_count": 13,
   "metadata": {},
   "outputs": [
    {
     "data": {
      "text/html": [
       "<div>\n",
       "<style scoped>\n",
       "    .dataframe tbody tr th:only-of-type {\n",
       "        vertical-align: middle;\n",
       "    }\n",
       "\n",
       "    .dataframe tbody tr th {\n",
       "        vertical-align: top;\n",
       "    }\n",
       "\n",
       "    .dataframe thead th {\n",
       "        text-align: right;\n",
       "    }\n",
       "</style>\n",
       "<table border=\"1\" class=\"dataframe\">\n",
       "  <thead>\n",
       "    <tr style=\"text-align: right;\">\n",
       "      <th></th>\n",
       "      <th>author_id</th>\n",
       "      <th>doi</th>\n",
       "      <th>udk</th>\n",
       "      <th>send</th>\n",
       "      <th>type</th>\n",
       "      <th>reference</th>\n",
       "      <th>by</th>\n",
       "      <th>paper</th>\n",
       "      <th>jour</th>\n",
       "      <th>yr</th>\n",
       "      <th>vol</th>\n",
       "      <th>issue</th>\n",
       "      <th>pages</th>\n",
       "    </tr>\n",
       "  </thead>\n",
       "  <tbody>\n",
       "    <tr>\n",
       "      <th>vyurv213</th>\n",
       "      <td>[113970, 148811, 22428]</td>\n",
       "      <td>&lt;a class=\"SLink\" href=\"https://doi.org/10.1452...</td>\n",
       "      <td>004.052.3</td>\n",
       "      <td>20.11.2018</td>\n",
       "      <td>Статья</td>\n",
       "      <td>А. А. Бондаренко, П. А. Ляхов, М. В. Якобовски...</td>\n",
       "      <td>А.~А.~Бондаренко, П.~А.~Ляхов, М.~В.~Якобовский</td>\n",
       "      <td>Координированное сохранение с журналированием ...</td>\n",
       "      <td>Вестн. ЮУрГУ. Сер. Выч. матем. информ.</td>\n",
       "      <td>2019</td>\n",
       "      <td>8</td>\n",
       "      <td>2</td>\n",
       "      <td>76--91</td>\n",
       "    </tr>\n",
       "    <tr>\n",
       "      <th>vyurv1</th>\n",
       "      <td>[113970, 22428]</td>\n",
       "      <td>&lt;a class=\"SLink\" href=\"https://doi.org/10.1452...</td>\n",
       "      <td>004.052.3</td>\n",
       "      <td>13.04.2015</td>\n",
       "      <td>Статья</td>\n",
       "      <td>А. А. Бондаренко, М. В. Якобовский, “Моделиров...</td>\n",
       "      <td>А.~А.~Бондаренко, М.~В.~Якобовский</td>\n",
       "      <td>Моделирование отказов в высокопроизводительных...</td>\n",
       "      <td>Вестн. ЮУрГУ. Сер. Выч. матем. информ.</td>\n",
       "      <td>2015</td>\n",
       "      <td>4</td>\n",
       "      <td>3</td>\n",
       "      <td>5--12</td>\n",
       "    </tr>\n",
       "    <tr>\n",
       "      <th>vyurv46</th>\n",
       "      <td>[113970, 22428]</td>\n",
       "      <td>None</td>\n",
       "      <td>004.052.3</td>\n",
       "      <td>05.08.2014</td>\n",
       "      <td>Статья</td>\n",
       "      <td>А. А. Бондаренко, М. В. Якобовский, “Обеспечен...</td>\n",
       "      <td>А.~А.~Бондаренко, М.~В.~Якобовский</td>\n",
       "      <td>Обеспечение отказоустойчивости высокопроизводи...</td>\n",
       "      <td>Вестн. ЮУрГУ. Сер. Выч. матем. информ.</td>\n",
       "      <td>2014</td>\n",
       "      <td>3</td>\n",
       "      <td>3</td>\n",
       "      <td>20--36</td>\n",
       "    </tr>\n",
       "    <tr>\n",
       "      <th>ipmp2988</th>\n",
       "      <td>[25339, 26426, 31779, 26427]</td>\n",
       "      <td>:https://doi.org/10.20948/prepr-2021-71</td>\n",
       "      <td>None</td>\n",
       "      <td>None</td>\n",
       "      <td>Препринт</td>\n",
       "      <td>С. В. Поляков, М. А. Трапезникова, А. Г. Чурба...</td>\n",
       "      <td>С.~В.~Поляков, М.~А.~Трапезникова, А.~Г.~Чурба...</td>\n",
       "      <td>Расчет несжимаемых течений в системе &amp;lt;&amp;lt;п...</td>\n",
       "      <td>Препринты ИПМ им.~М.~В.~Келдыша</td>\n",
       "      <td>2021</td>\n",
       "      <td>None</td>\n",
       "      <td>None</td>\n",
       "      <td>None</td>\n",
       "    </tr>\n",
       "    <tr>\n",
       "      <th>ipmp2939</th>\n",
       "      <td>[101245, 25339, 163334]</td>\n",
       "      <td>:https://doi.org/10.20948/prepr-2021-21</td>\n",
       "      <td>None</td>\n",
       "      <td>None</td>\n",
       "      <td>Препринт</td>\n",
       "      <td>Б. Г. Фрейнкман, С. В. Поляков, И. О. Толстов,...</td>\n",
       "      <td>Б.~Г.~Фрейнкман, С.~В.~Поляков, И.~О.~Толстов</td>\n",
       "      <td>Расчет основного состояния электрона в неоднор...</td>\n",
       "      <td>Препринты ИПМ им.~М.~В.~Келдыша</td>\n",
       "      <td>2021</td>\n",
       "      <td>None</td>\n",
       "      <td>None</td>\n",
       "      <td>None</td>\n",
       "    </tr>\n",
       "  </tbody>\n",
       "</table>\n",
       "</div>"
      ],
      "text/plain": [
       "                             author_id  \\\n",
       "vyurv213       [113970, 148811, 22428]   \n",
       "vyurv1                 [113970, 22428]   \n",
       "vyurv46                [113970, 22428]   \n",
       "ipmp2988  [25339, 26426, 31779, 26427]   \n",
       "ipmp2939       [101245, 25339, 163334]   \n",
       "\n",
       "                                                        doi        udk  \\\n",
       "vyurv213  <a class=\"SLink\" href=\"https://doi.org/10.1452...  004.052.3   \n",
       "vyurv1    <a class=\"SLink\" href=\"https://doi.org/10.1452...  004.052.3   \n",
       "vyurv46                                                None  004.052.3   \n",
       "ipmp2988            :https://doi.org/10.20948/prepr-2021-71       None   \n",
       "ipmp2939            :https://doi.org/10.20948/prepr-2021-21       None   \n",
       "\n",
       "                 send      type  \\\n",
       "vyurv213   20.11.2018    Статья   \n",
       "vyurv1     13.04.2015    Статья   \n",
       "vyurv46    05.08.2014    Статья   \n",
       "ipmp2988         None  Препринт   \n",
       "ipmp2939         None  Препринт   \n",
       "\n",
       "                                                  reference  \\\n",
       "vyurv213  А. А. Бондаренко, П. А. Ляхов, М. В. Якобовски...   \n",
       "vyurv1    А. А. Бондаренко, М. В. Якобовский, “Моделиров...   \n",
       "vyurv46   А. А. Бондаренко, М. В. Якобовский, “Обеспечен...   \n",
       "ipmp2988  С. В. Поляков, М. А. Трапезникова, А. Г. Чурба...   \n",
       "ipmp2939  Б. Г. Фрейнкман, С. В. Поляков, И. О. Толстов,...   \n",
       "\n",
       "                                                         by  \\\n",
       "vyurv213    А.~А.~Бондаренко, П.~А.~Ляхов, М.~В.~Якобовский   \n",
       "vyurv1                   А.~А.~Бондаренко, М.~В.~Якобовский   \n",
       "vyurv46                  А.~А.~Бондаренко, М.~В.~Якобовский   \n",
       "ipmp2988  С.~В.~Поляков, М.~А.~Трапезникова, А.~Г.~Чурба...   \n",
       "ipmp2939      Б.~Г.~Фрейнкман, С.~В.~Поляков, И.~О.~Толстов   \n",
       "\n",
       "                                                      paper  \\\n",
       "vyurv213  Координированное сохранение с журналированием ...   \n",
       "vyurv1    Моделирование отказов в высокопроизводительных...   \n",
       "vyurv46   Обеспечение отказоустойчивости высокопроизводи...   \n",
       "ipmp2988  Расчет несжимаемых течений в системе &lt;&lt;п...   \n",
       "ipmp2939  Расчет основного состояния электрона в неоднор...   \n",
       "\n",
       "                                            jour    yr   vol issue   pages  \n",
       "vyurv213  Вестн. ЮУрГУ. Сер. Выч. матем. информ.  2019     8     2  76--91  \n",
       "vyurv1    Вестн. ЮУрГУ. Сер. Выч. матем. информ.  2015     4     3   5--12  \n",
       "vyurv46   Вестн. ЮУрГУ. Сер. Выч. матем. информ.  2014     3     3  20--36  \n",
       "ipmp2988         Препринты ИПМ им.~М.~В.~Келдыша  2021  None  None    None  \n",
       "ipmp2939         Препринты ИПМ им.~М.~В.~Келдыша  2021  None  None    None  "
      ]
     },
     "execution_count": 13,
     "metadata": {},
     "output_type": "execute_result"
    }
   ],
   "source": [
    "pub.head()"
   ]
  },
  {
   "cell_type": "code",
   "execution_count": 14,
   "metadata": {},
   "outputs": [],
   "source": [
    "for ind, row in pub.iterrows():\n",
    "    if len(row['reference'])==0:\n",
    "        print(ind)"
   ]
  },
  {
   "cell_type": "code",
   "execution_count": 15,
   "metadata": {},
   "outputs": [],
   "source": [
    "# print(pub.loc['ipmp2988']['reference'])"
   ]
  },
  {
   "cell_type": "code",
   "execution_count": 16,
   "metadata": {},
   "outputs": [],
   "source": [
    "# pub.loc['vyurv1']['reference'] = 'А. А. Бондаренко, М. В. Якобовский, “Моделирование отказов в высокопроизводительных вычислительных системах в рамках стандарта MPI и его расширения ULFM”, Вестн. ЮУрГУ. Сер. Выч. матем. информ., 4:3 (2015), 5–12'\n",
    "# pub.loc['vyurv213']['reference'] = 'А. А. Бондаренко, П. А. Ляхов, М. В. Якобовский, “Координированное сохранение с журналированием передаваемых данных и асинхронное восстановление в случае отказа”, Вестн. ЮУрГУ. Сер. Выч. матем. информ., 8:2 (2019), 76–91'\n",
    "# pub.loc['vyurv46']['reference'] = 'А. А. Бондаренко, М. В. Якобовский, “Обеспечение отказоустойчивости высокопроизводительных вычислений с помощью локальных контрольных точек”, Вестн. ЮУрГУ. Сер. Выч. матем. информ., 3:3 (2014),  20–36'\n"
   ]
  },
  {
   "cell_type": "code",
   "execution_count": 17,
   "metadata": {},
   "outputs": [
    {
     "data": {
      "image/png": "[encoded data removed]",
      "text/plain": [
       "<Figure size 432x288 with 1 Axes>"
      ]
     },
     "metadata": {
      "needs_background": "light"
     },
     "output_type": "display_data"
    }
   ],
   "source": [
    "pub.isnull().sum().plot(kind='bar');"
   ]
  },
  {
   "cell_type": "markdown",
   "metadata": {},
   "source": [
    "### 1.1.3 Pandas DataFrame with abstracts"
   ]
  },
  {
   "cell_type": "code",
   "execution_count": 18,
   "metadata": {},
   "outputs": [
    {
     "data": {
      "text/html": [
       "<div>\n",
       "<style scoped>\n",
       "    .dataframe tbody tr th:only-of-type {\n",
       "        vertical-align: middle;\n",
       "    }\n",
       "\n",
       "    .dataframe tbody tr th {\n",
       "        vertical-align: top;\n",
       "    }\n",
       "\n",
       "    .dataframe thead th {\n",
       "        text-align: right;\n",
       "    }\n",
       "</style>\n",
       "<table border=\"1\" class=\"dataframe\">\n",
       "  <thead>\n",
       "    <tr style=\"text-align: right;\">\n",
       "      <th></th>\n",
       "      <th>abstract</th>\n",
       "      <th>keywords</th>\n",
       "    </tr>\n",
       "    <tr>\n",
       "      <th>mn_link</th>\n",
       "      <th></th>\n",
       "      <th></th>\n",
       "    </tr>\n",
       "  </thead>\n",
       "  <tbody>\n",
       "    <tr>\n",
       "      <th>vyurv213</th>\n",
       "      <td>Увеличивающийся рост числа компонент суперкомп...</td>\n",
       "      <td>расширение ULFM, контрольные точки, координиро...</td>\n",
       "    </tr>\n",
       "    <tr>\n",
       "      <th>vyurv1</th>\n",
       "      <td>Рассматривается проблема выполнения длительных...</td>\n",
       "      <td>параллельные вычисления, отказоустойчивость, к...</td>\n",
       "    </tr>\n",
       "    <tr>\n",
       "      <th>vyurv46</th>\n",
       "      <td>Рассматриваются вопросы, связанные с проведени...</td>\n",
       "      <td>параллельные вычисления, отказоустойчивость, к...</td>\n",
       "    </tr>\n",
       "    <tr>\n",
       "      <th>ipmp2988</th>\n",
       "      <td>В данной работе рассмотрена модель для сопряже...</td>\n",
       "      <td>модель Бринкмана, уравнения Навье-Стокса, своб...</td>\n",
       "    </tr>\n",
       "    <tr>\n",
       "      <th>ipmp2939</th>\n",
       "      <td>Данное исследование связано с разработкой мате...</td>\n",
       "      <td>математическое моделирование, решетка графена,...</td>\n",
       "    </tr>\n",
       "  </tbody>\n",
       "</table>\n",
       "</div>"
      ],
      "text/plain": [
       "                                                   abstract  \\\n",
       "mn_link                                                       \n",
       "vyurv213  Увеличивающийся рост числа компонент суперкомп...   \n",
       "vyurv1    Рассматривается проблема выполнения длительных...   \n",
       "vyurv46   Рассматриваются вопросы, связанные с проведени...   \n",
       "ipmp2988  В данной работе рассмотрена модель для сопряже...   \n",
       "ipmp2939  Данное исследование связано с разработкой мате...   \n",
       "\n",
       "                                                   keywords  \n",
       "mn_link                                                      \n",
       "vyurv213  расширение ULFM, контрольные точки, координиро...  \n",
       "vyurv1    параллельные вычисления, отказоустойчивость, к...  \n",
       "vyurv46   параллельные вычисления, отказоустойчивость, к...  \n",
       "ipmp2988  модель Бринкмана, уравнения Навье-Стокса, своб...  \n",
       "ipmp2939  математическое моделирование, решетка графена,...  "
      ]
     },
     "execution_count": 18,
     "metadata": {},
     "output_type": "execute_result"
    }
   ],
   "source": [
    "absdb.db.head()"
   ]
  },
  {
   "cell_type": "code",
   "execution_count": 19,
   "metadata": {},
   "outputs": [
    {
     "name": "stdout",
     "output_type": "stream",
     "text": [
      "<class 'pandas.core.frame.DataFrame'>\n",
      "Index: 7597 entries, vyurv213 to vmumm4420\n",
      "Data columns (total 2 columns):\n",
      " #   Column    Non-Null Count  Dtype \n",
      "---  ------    --------------  ----- \n",
      " 0   abstract  5609 non-null   object\n",
      " 1   keywords  2525 non-null   object\n",
      "dtypes: object(2)\n",
      "memory usage: 178.1+ KB\n"
     ]
    }
   ],
   "source": [
    "absdb.db.info()"
   ]
  },
  {
   "cell_type": "code",
   "execution_count": 20,
   "metadata": {},
   "outputs": [
    {
     "data": {
      "image/png": "[encoded data removed]",
      "text/plain": [
       "<Figure size 432x288 with 1 Axes>"
      ]
     },
     "metadata": {
      "needs_background": "light"
     },
     "output_type": "display_data"
    }
   ],
   "source": [
    "absdb.db.isnull().sum().plot(kind='bar');"
   ]
  },
  {
   "cell_type": "code",
   "execution_count": 21,
   "metadata": {},
   "outputs": [
    {
     "data": {
      "image/png": "[encoded data removed]",
      "text/plain": [
       "<Figure size 432x288 with 1 Axes>"
      ]
     },
     "metadata": {
      "needs_background": "light"
     },
     "output_type": "display_data"
    }
   ],
   "source": [
    "absdb.db.notnull().sum().plot(kind='bar');"
   ]
  },
  {
   "cell_type": "code",
   "execution_count": 22,
   "metadata": {},
   "outputs": [
    {
     "name": "stdout",
     "output_type": "stream",
     "text": [
      "vyurv213\n",
      "vyurv1\n",
      "vyurv46\n",
      "ipmp2988\n",
      "ipmp2939\n",
      "mm4253\n",
      "danma122\n",
      "vmp992\n",
      "ipmp2783\n",
      "ipmp2734\n"
     ]
    }
   ],
   "source": [
    "for ind,val in enumerate(absdb.db[absdb.db.notnull()].index):\n",
    "    if ind<10:\n",
    "        print(val)"
   ]
  },
  {
   "cell_type": "code",
   "execution_count": 23,
   "metadata": {},
   "outputs": [
    {
     "data": {
      "text/plain": [
       "3302"
      ]
     },
     "execution_count": 23,
     "metadata": {},
     "output_type": "execute_result"
    }
   ],
   "source": [
    "(pub.loc[list(absdb.db[absdb.db.notnull()].index)]['yr']>'2005').sum()"
   ]
  },
  {
   "cell_type": "code",
   "execution_count": 24,
   "metadata": {},
   "outputs": [
    {
     "name": "stdout",
     "output_type": "stream",
     "text": [
      "False\n",
      "True\n"
     ]
    }
   ],
   "source": [
    "print('1998'>'2005')\n",
    "print('2008'>'2005')"
   ]
  },
  {
   "cell_type": "markdown",
   "metadata": {},
   "source": [
    "## 1.2 Publications and their artefacts"
   ]
  },
  {
   "cell_type": "code",
   "execution_count": 25,
   "metadata": {},
   "outputs": [
    {
     "name": "stdout",
     "output_type": "stream",
     "text": [
      "Number of received papers is       7597\n",
      "Number of papers without abstracts 1988\n",
      "Number of papers without keywords  5072\n"
     ]
    }
   ],
   "source": [
    "print(f\"Number of received papers is       {len(absdb.db.index)}\")\n",
    "print(f\"Number of papers without abstracts {(absdb.db['abstract'].isnull()).sum()}\")\n",
    "print(f\"Number of papers without keywords  {(absdb.db['keywords'].isnull()).sum()}\")"
   ]
  },
  {
   "cell_type": "markdown",
   "metadata": {},
   "source": [
    "Look through papers with artefacts "
   ]
  },
  {
   "cell_type": "code",
   "execution_count": 26,
   "metadata": {},
   "outputs": [
    {
     "name": "stdout",
     "output_type": "stream",
     "text": [
      "year = 2021,  link = http://mi.mathnet.ru/mm4267, name = Памяти Николая Николаевича Калиткина, \n",
      "year = 2018,  link = http://mi.mathnet.ru/mm3935, name = Памяти Александра Сергеевича Холодова, \n",
      "year = 2017,  link = http://mi.mathnet.ru/crm91, name = Памяти Александра Сергеевича Холодова (11.10.1941 -- 05.11.2017), \n",
      "year = 2017,  link = http://mi.mathnet.ru/svmo668, name = Юрий Николаевич Дерюгин~--- к семидесятилетию со дня рождения, \n",
      "year = 2016,  link = http://mi.mathnet.ru/mm3685, name = Памяти О.\\,М.~Белоцерковского, \n",
      "year = 2016,  link = http://mi.mathnet.ru/zvmmf10413, name = Памяти академика Российской академии наук Олега Михайловича Белоцерковского, \n",
      "year = 2016,  link = http://mi.mathnet.ru/zvmmf10334, name = Памяти профессора Алексея Владимировича Гулина (26.03.1942--27.03.2015), \n",
      "year = 2015,  link = http://mi.mathnet.ru/mm3614, name = Международная молодежная конференция &lt;&lt;Современные проблемы прикладной математики и информатики&gt;&gt;, \n",
      "year = 2015,  link = http://mi.mathnet.ru/umn9676, name = Виктор Соломонович Рябенький и его школа (к девяностолетию со, \n",
      "year = 2015,  link = http://mi.mathnet.ru/umn9689, name = Александр Иванович Аптекарев (к 60-летию со дня рождения), \n",
      "year = 2015,  link = http://mi.mathnet.ru/zvmmf10243, name = К 75-летию со дня рождения профессора Антона Павловича Фаворского, \n",
      "year = 2014,  link = http://mi.mathnet.ru/mm3502, name = Памяти В.\\,Я.~Гольдина, \n",
      "year = 2011,  link = http://mi.mathnet.ru/umn9408, name = М.\\,В.~Келдыш~-- ученый и~государственный деятель (к столетию со дня рождения), \n",
      "year = 2011,  link = http://mi.mathnet.ru/zvmmf9535, name = Академик М.\\,В.~Келдыш и вычислительная математика (к столетию со дня рождения), \n",
      "year = 2010,  link = http://mi.mathnet.ru/zvmmf4929, name = Памяти Радия Петровича Федоренко (1930--2010), \n",
      "year = 2009,  link = http://mi.mathnet.ru/zvmmf4729, name = Алексей Валериевич Забродин (1933--2008), \n",
      "year = 2017,  link = http://mi.mathnet.ru/umn9751, name = Памяти Эммануила Эльевича Шноля, \n",
      "year = 2014,  link = http://mi.mathnet.ru/umn9585, name = Борис Николаевич Четверушкин (к семидесятилетию со дня рождения), \n",
      "year = 2009,  link = http://mi.mathnet.ru/umn9332, name = И.\\,М.~Гельфанд и прикладная математика, \n",
      "year = 2011,  link = http://mi.mathnet.ru/cmfd170, name = Владимир Александрович Кондратьев. 2~июля 1935~г.~-- 11~марта 2010~г., \n",
      "year = 2016,  link = http://mi.mathnet.ru/mz11044, name = О~связи неванлинновских и квадратурных областей, \n",
      "year = 2015,  link = http://mi.mathnet.ru/umn9669, name = Сергею Константиновичу Годунову 85 лет, \n",
      "year = 2010,  link = http://mi.mathnet.ru/zvmmf4806, name = К 80-летию со дня рождения академика Сергея Константиновича Годунова, \n",
      "year = 2011,  link = http://mi.mathnet.ru/umn9412, name = Юрий Леонидович Ершов (к семидесятилетию со дня рождения), \n",
      "year = 2011,  link = http://mi.mathnet.ru/ufn4154, name = Памяти Юрия Александровича Романова, \n",
      "year = 2021,  link = http://mi.mathnet.ru/svmo814, name = К 75-летию  Вячеслава Зигмундовича Гринеса, \n",
      "year = 2016,  link = http://mi.mathnet.ru/svmo640, name = Вячеслав Зигмундович Гринес (к семидесятилетию со дня рождения), \n",
      "year = 2012,  link = http://mi.mathnet.ru/nd314, name = Леонид Павлович Шильников (17.12.1934--26.12.2011), \n",
      "year = 2012,  link = http://mi.mathnet.ru/umn9481, name = Леонид Павлович Шильников (некролог), \n",
      "year = 2010,  link = http://mi.mathnet.ru/nd53, name = Леонид Павлович Шильников: К 75-летию со дня рождения, \n",
      "year = 2011,  link = http://mi.mathnet.ru/itvs382, name = ВАК в интернете, \n",
      "year = 2016,  link = http://mi.mathnet.ru/mz11016, name = Об асимптотической нормальности для гармонического кристалла, взаимодействующего с~волновым полем, \n",
      "year = 2010,  link = http://mi.mathnet.ru/zvmmf4869, name = Поправка, \n",
      "year = 2019,  link = http://mi.mathnet.ru/svmo731, name = К семидесятилетию  Владимира Фёдоровича Тишкина, \n",
      "year = 2021,  link = http://mi.mathnet.ru/umn10002, name = Вячеслав Владимирович Шокуров (к семидесятилетию со дня рождения), \n",
      "year = 2014,  link = http://mi.mathnet.ru/izv8254, name = Письмо в редакцию, \n",
      "year = 2013,  link = http://mi.mathnet.ru/umn9504, name = Алексей Николаевич Паршин (к семидесятилетию со дня рождения), \n",
      "year = 2010,  link = http://mi.mathnet.ru/umn9385, name = Вячеслав Владимирович Шокуров (к 60-летию со дня рождения), \n",
      "year = 2019,  link = http://mi.mathnet.ru/mz12506, name = О постоянной Либа--Тирринга на торе, \n",
      "year = 2020,  link = http://mi.mathnet.ru/umn9960, name = Магнитное неравенство Либа--Тирринга для периодических функций, \n",
      "year = 2014,  link = http://mi.mathnet.ru/ufn5035, name = Памяти Виталия Дмитриевича Шафранова, \n",
      "year = 2012,  link = http://mi.mathnet.ru/ufn4165, name = Владимир Борисович Брагинский (к 80-летию со дня рождения), \n",
      "year = 2010,  link = http://mi.mathnet.ru/ufn881, name = Виталий Дмитриевич Шафранов (к 80-летию со дня рождения), \n",
      "year = 2009,  link = http://mi.mathnet.ru/ufn799, name = Лев Борисович Окунь (к 80-летию со дня рождения), \n",
      "year = 2013,  link = http://mi.mathnet.ru/pu782, name = Шестая международная конференция ``Параллельные вычисления и задачи управления'', Москва, 24--26 октября 2012~г., \n",
      "year = 2011,  link = http://mi.mathnet.ru/mm3192, name = А.\\,А.~Ляпунов~-- первый теоретик программирования в~СССР (к~100-летию со дня рождения), \n",
      "year = 2015,  link = http://mi.mathnet.ru/mz10720, name = Об асимптотически точном неравенстве марковского типа для тригонометрических и~алгебраических многочленов, \n",
      "year = 2021,  link = http://mi.mathnet.ru/mm4299, name = Тематический выпуск \"Вычислительный эксперимент в аэроакустике\", \n",
      "year = 2019,  link = http://mi.mathnet.ru/mm4124, name = Тематический выпуск \"Вычислительный эксперимент в аэроакустике\", \n",
      "year = 2018,  link = http://mi.mathnet.ru/mm3964, name = Предисловие, \n",
      "year = 2015,  link = http://mi.mathnet.ru/mm3653, name = Предисловие, \n",
      "year = 2013,  link = http://mi.mathnet.ru/mm3396, name = Вычислительный эксперимент в аэроакустике 2012 (17-22 сентября, Светлогорск, Россия), \n",
      "year = 2011,  link = http://mi.mathnet.ru/mm3171, name = Третья открытая всероссийская конференция &lt;&lt;Вычислительный эксперимент в аэроакустике&gt;&gt; (20--25 сентября 2010~г., г.~Светлогорск Калининградской области), \n",
      "year = 2011,  link = http://mi.mathnet.ru/pdm299, name = О некоторых свойствах предфрактальных графов, \n",
      "year = 2014,  link = http://mi.mathnet.ru/umn9608, name = Задача Дирихле для уравнения диффузии вне плоских разомкнутых поверхностей, \n",
      "year = 2014,  link = http://mi.mathnet.ru/umn9540, name = Об обратимости одного оператора, \n",
      "year = 2009,  link = http://mi.mathnet.ru/umn9273, name = О потенциалах статической теории упругости, \n",
      "year = 2020,  link = http://mi.mathnet.ru/umn9949, name = Валерий Васильевич Козлов (к~семидесятилетию со дня рождения), \n",
      "year = 2020,  link = http://mi.mathnet.ru/mz12901, name = Динамика носителей экстремальных мер в~поле точечного заряда, \n",
      "year = 2012,  link = http://mi.mathnet.ru/umn9486, name = Равновесная мера во внешнем поле для векторного потенциала с~матрицей взаимодействия Никишина, \n",
      "year = 2021,  link = http://mi.mathnet.ru/umn10017, name = Многоуровневая интерполяция системы Никишина и ограниченность матриц Якоби на бинарном дереве, \n",
      "year = 2018,  link = http://mi.mathnet.ru/mz11826, name = Асимптотика многочленов Якоби--Пинейро и функций второго рода, \n",
      "year = 2017,  link = http://mi.mathnet.ru/crm70, name = Молодость. Вечность. Синергетика, \n",
      "year = 2010,  link = http://mi.mathnet.ru/itvs386, name = Сложносистемное мышление. Материя, разум, человечество. Новый синтез. Майнцер~К., \n",
      "year = 2020,  link = http://mi.mathnet.ru/ufn6727, name = Анатолий Михайлович Черепащук (к 80-летию со дня рождения), \n",
      "year = 2018,  link = http://mi.mathnet.ru/ufn6349, name = Лев Матвеевич Зелёный (к 70-летию со дня рождения), \n",
      "year = 2011,  link = http://mi.mathnet.ru/ufn2394, name = Памяти Алексея Максимовича Фридмана, \n",
      "year = 2021,  link = http://mi.mathnet.ru/crm922, name = От редакции, \n",
      "year = 2016,  link = http://mi.mathnet.ru/crm23, name = От редакции, \n",
      "year = 2022,  link = http://mi.mathnet.ru/crm951, name = От редакции, \n",
      "year = 2021,  link = http://mi.mathnet.ru/crm937, name = От редакции, \n",
      "year = 2021,  link = http://mi.mathnet.ru/crm907, name = От редакции, \n",
      "year = 2021,  link = http://mi.mathnet.ru/crm895, name = От редакции, \n",
      "year = 2021,  link = http://mi.mathnet.ru/crm864, name = От редакции, \n",
      "year = 2020,  link = http://mi.mathnet.ru/crm846, name = От редакции, \n",
      "year = 2020,  link = http://mi.mathnet.ru/crm826, name = От редакции, \n",
      "year = 2020,  link = http://mi.mathnet.ru/crm810, name = От редакции, \n",
      "year = 2020,  link = http://mi.mathnet.ru/crm797, name = От редакции, \n",
      "year = 2020,  link = http://mi.mathnet.ru/crm783, name = От редакции, \n",
      "year = 2020,  link = http://mi.mathnet.ru/crm768, name = От редакции, \n",
      "year = 2019,  link = http://mi.mathnet.ru/crm742, name = От редакции, \n",
      "year = 2019,  link = http://mi.mathnet.ru/crm729, name = От редакции, \n",
      "year = 2019,  link = http://mi.mathnet.ru/crm716, name = От редакции, \n",
      "year = 2019,  link = http://mi.mathnet.ru/crm705, name = От редакции, \n",
      "year = 2019,  link = http://mi.mathnet.ru/crm694, name = От редакции, \n",
      "year = 2018,  link = http://mi.mathnet.ru/crm681, name = От редакции, \n",
      "year = 2018,  link = http://mi.mathnet.ru/crm452, name = От редакции, \n",
      "year = 2018,  link = http://mi.mathnet.ru/crm156, name = От редакции, \n",
      "year = 2018,  link = http://mi.mathnet.ru/crm115, name = От редакции, \n",
      "year = 2017,  link = http://mi.mathnet.ru/crm104, name = От редакции, \n",
      "year = 2017,  link = http://mi.mathnet.ru/crm90, name = От редакции, \n",
      "year = 2017,  link = http://mi.mathnet.ru/crm69, name = От редакции, \n",
      "year = 2017,  link = http://mi.mathnet.ru/crm54, name = От редакции, \n",
      "year = 2016,  link = http://mi.mathnet.ru/crm31, name = От редакции, \n",
      "year = 2013,  link = http://mi.mathnet.ru/crm741, name = От редакции, \n",
      "year = 2010,  link = http://mi.mathnet.ru/ufn928, name = Спутниковое радиозондирование и радиотомография ионосферы, \n",
      "year = 2022,  link = http://mi.mathnet.ru/mz13291, name = О самокорректирующихся схемах из ненадежных функциональных элементов,, \n",
      "year = 2021,  link = http://mi.mathnet.ru/mz13212, name = Вариационная постановка задачи поиска обобщенных решений для, \n",
      "year = 2019,  link = http://mi.mathnet.ru/umn9918, name = Вариационный принцип для многомерных~законов~сохранения и среды без давления, \n",
      "year = 2009,  link = http://mi.mathnet.ru/mmj372, name = Erratum to the paper ``On generalized Harish-Chandra modules'', \n",
      "year = 2020,  link = http://mi.mathnet.ru/umn9965, name = Анатолий Исерович Нейштадт (к семидесятилетию со дня рождения), \n",
      "year = 2022,  link = http://mi.mathnet.ru/mz13208, name = Неравенство Харнака слабого типа, \n",
      "year = 2019,  link = http://mi.mathnet.ru/tsp99, name = Жиков Василий Васильевич, \n",
      "year = 2021,  link = http://mi.mathnet.ru/svmo804, name = К 80-летию  Ильи Владимировича Бойкова, \n",
      "year = 2021,  link = http://mi.mathnet.ru/svmo798, name = К 80-летию  Владимира Константиновича Горбунова, \n",
      "year = 2021,  link = http://mi.mathnet.ru/svmo792, name = Памяти Терехина Михаила Тихоновича, \n",
      "year = 2020,  link = http://mi.mathnet.ru/svmo784, name = Памяти Спивака Семена Израилевича, \n",
      "year = 2019,  link = http://mi.mathnet.ru/svmo741, name = Памяти Владимира Николаевича Щенникова, \n",
      "year = 2019,  link = http://mi.mathnet.ru/svmo732, name = К восьмидесятипятилетию Михаила Тихоновича Терёхина, \n",
      "year = 2018,  link = http://mi.mathnet.ru/svmo712, name = Вельмисов Петр Александрович (к 70-летию со дня рождения), \n",
      "year = 2018,  link = http://mi.mathnet.ru/svmo695, name = Памяти Логинова Бориса Владимировича, \n",
      "year = 2017,  link = http://mi.mathnet.ru/svmo684, name = К 80-летию со дня рождения профессора, \n",
      "year = 2018,  link = http://mi.mathnet.ru/mz11985, name = Параметризация Хессе одной спектральной кривой, \n",
      "year = 2017,  link = http://mi.mathnet.ru/umn9780, name = Многомерные осциляторы при больших размерностях и многочлены Лагерра, \n",
      "year = 2015,  link = http://mi.mathnet.ru/mz10799, name = О~параметризации одной комплексной алгебраической кривой рода~2, \n",
      "year = 2015,  link = http://mi.mathnet.ru/mz10540, name = Режим насыщения многочленов Мейкснера и дискретное ядро Бесселя, \n",
      "year = 2015,  link = http://mi.mathnet.ru/umn9678, name = Асимптотика $L_p$-норм многочленов Лагерра, \n",
      "year = 2011,  link = http://mi.mathnet.ru/umn9409, name = Асимптотические режимы в~зоне насыщения для C-D-ядер ансамбля ортогональных многочленов Мейкснера, \n",
      "year = 2020,  link = http://mi.mathnet.ru/ufa531, name = Памяти Ямилова Равиля Исламовича, \n",
      "year = 2016,  link = http://mi.mathnet.ru/umn9734, name = Александр Петрович Веселов (к шестидесятилетию со дня рождения), \n",
      "year = 2014,  link = http://mi.mathnet.ru/umn9624, name = Присуждение Я.\\,Г.~Синаю премии Абеля, \n",
      "year = 2012,  link = http://mi.mathnet.ru/mbb83, name = Вторая национальная конференция с международным участием &lt;&lt;Математическое моделирование в экологии. Экоматмод-2011&gt;&gt;, \n",
      "year = 2021,  link = http://mi.mathnet.ru/ivm9661, name = Некролог. Леонид Александрович Аксентьев, \n",
      "year = 2021,  link = http://mi.mathnet.ru/uzku1584, name = Памяти учителя, \n",
      "year = 2022,  link = http://mi.mathnet.ru/mz13214, name = О~суммах бернуллиевских случайных величин по модулю~3, \n",
      "year = 2019,  link = http://mi.mathnet.ru/mz12414, name = Полиномиальные преобразования случайных величин, \n",
      "year = 2021,  link = http://mi.mathnet.ru/vmumm4420, name = Октай Мурадович Касим-заде (29.04.1953--22.12.2020), \n",
      "Numper of papers without abstracts without 'year' field is 414\n",
      "Count of NEW papers without abstracts 127\n",
      "Count of OLD papers without abstracts 1447\n"
     ]
    }
   ],
   "source": [
    "w_year = 0\n",
    "new_count = 0\n",
    "old_count = 0\n",
    "breaking_year = 2008\n",
    "links_to_check = ['http://mi.mathnet.ru/'+mn_link for mn_link in absdb.db.index[absdb.db['abstract'].isnull()]]\n",
    "for link, slink in zip(links_to_check, absdb.db.index[absdb.db['abstract'].isnull()]):\n",
    "    year = pub.loc[slink,'yr']    \n",
    "    if year is None:\n",
    "        # print(f\"year = {year}, name = {pub.loc[slink,'paper']}, link = {link} \")\n",
    "        w_year+=1\n",
    "    else:\n",
    "        if int(year)>breaking_year:    \n",
    "            new_count +=1\n",
    "            print(f\"year = {year},  link = {link}, name = {pub.loc[slink,'paper']}, \")\n",
    "        else:\n",
    "            old_count +=1\n",
    "print(f\"Numper of papers without abstracts without 'year' field is {w_year}\")\n",
    "print(f\"Count of NEW papers without abstracts {new_count}\")\n",
    "print(f\"Count of OLD papers without abstracts {old_count}\")\n"
   ]
  },
  {
   "cell_type": "code",
   "execution_count": 27,
   "metadata": {},
   "outputs": [
    {
     "data": {
      "text/html": [
       "<div>\n",
       "<style scoped>\n",
       "    .dataframe tbody tr th:only-of-type {\n",
       "        vertical-align: middle;\n",
       "    }\n",
       "\n",
       "    .dataframe tbody tr th {\n",
       "        vertical-align: top;\n",
       "    }\n",
       "\n",
       "    .dataframe thead th {\n",
       "        text-align: right;\n",
       "    }\n",
       "</style>\n",
       "<table border=\"1\" class=\"dataframe\">\n",
       "  <thead>\n",
       "    <tr style=\"text-align: right;\">\n",
       "      <th></th>\n",
       "      <th>author_id</th>\n",
       "      <th>doi</th>\n",
       "      <th>udk</th>\n",
       "      <th>send</th>\n",
       "      <th>type</th>\n",
       "      <th>reference</th>\n",
       "      <th>by</th>\n",
       "      <th>paper</th>\n",
       "      <th>jour</th>\n",
       "      <th>yr</th>\n",
       "      <th>vol</th>\n",
       "      <th>issue</th>\n",
       "      <th>pages</th>\n",
       "    </tr>\n",
       "  </thead>\n",
       "  <tbody>\n",
       "    <tr>\n",
       "      <th>vyurv213</th>\n",
       "      <td>[113970, 148811, 22428]</td>\n",
       "      <td>&lt;a class=\"SLink\" href=\"https://doi.org/10.1452...</td>\n",
       "      <td>004.052.3</td>\n",
       "      <td>20.11.2018</td>\n",
       "      <td>Статья</td>\n",
       "      <td>А. А. Бондаренко, П. А. Ляхов, М. В. Якобовски...</td>\n",
       "      <td>А.~А.~Бондаренко, П.~А.~Ляхов, М.~В.~Якобовский</td>\n",
       "      <td>Координированное сохранение с журналированием ...</td>\n",
       "      <td>Вестн. ЮУрГУ. Сер. Выч. матем. информ.</td>\n",
       "      <td>2019</td>\n",
       "      <td>8</td>\n",
       "      <td>2</td>\n",
       "      <td>76--91</td>\n",
       "    </tr>\n",
       "    <tr>\n",
       "      <th>vyurv1</th>\n",
       "      <td>[113970, 22428]</td>\n",
       "      <td>&lt;a class=\"SLink\" href=\"https://doi.org/10.1452...</td>\n",
       "      <td>004.052.3</td>\n",
       "      <td>13.04.2015</td>\n",
       "      <td>Статья</td>\n",
       "      <td>А. А. Бондаренко, М. В. Якобовский, “Моделиров...</td>\n",
       "      <td>А.~А.~Бондаренко, М.~В.~Якобовский</td>\n",
       "      <td>Моделирование отказов в высокопроизводительных...</td>\n",
       "      <td>Вестн. ЮУрГУ. Сер. Выч. матем. информ.</td>\n",
       "      <td>2015</td>\n",
       "      <td>4</td>\n",
       "      <td>3</td>\n",
       "      <td>5--12</td>\n",
       "    </tr>\n",
       "    <tr>\n",
       "      <th>vyurv46</th>\n",
       "      <td>[113970, 22428]</td>\n",
       "      <td>None</td>\n",
       "      <td>004.052.3</td>\n",
       "      <td>05.08.2014</td>\n",
       "      <td>Статья</td>\n",
       "      <td>А. А. Бондаренко, М. В. Якобовский, “Обеспечен...</td>\n",
       "      <td>А.~А.~Бондаренко, М.~В.~Якобовский</td>\n",
       "      <td>Обеспечение отказоустойчивости высокопроизводи...</td>\n",
       "      <td>Вестн. ЮУрГУ. Сер. Выч. матем. информ.</td>\n",
       "      <td>2014</td>\n",
       "      <td>3</td>\n",
       "      <td>3</td>\n",
       "      <td>20--36</td>\n",
       "    </tr>\n",
       "    <tr>\n",
       "      <th>ipmp2988</th>\n",
       "      <td>[25339, 26426, 31779, 26427]</td>\n",
       "      <td>:https://doi.org/10.20948/prepr-2021-71</td>\n",
       "      <td>None</td>\n",
       "      <td>None</td>\n",
       "      <td>Препринт</td>\n",
       "      <td>С. В. Поляков, М. А. Трапезникова, А. Г. Чурба...</td>\n",
       "      <td>С.~В.~Поляков, М.~А.~Трапезникова, А.~Г.~Чурба...</td>\n",
       "      <td>Расчет несжимаемых течений в системе &amp;lt;&amp;lt;п...</td>\n",
       "      <td>Препринты ИПМ им.~М.~В.~Келдыша</td>\n",
       "      <td>2021</td>\n",
       "      <td>None</td>\n",
       "      <td>None</td>\n",
       "      <td>None</td>\n",
       "    </tr>\n",
       "    <tr>\n",
       "      <th>ipmp2939</th>\n",
       "      <td>[101245, 25339, 163334]</td>\n",
       "      <td>:https://doi.org/10.20948/prepr-2021-21</td>\n",
       "      <td>None</td>\n",
       "      <td>None</td>\n",
       "      <td>Препринт</td>\n",
       "      <td>Б. Г. Фрейнкман, С. В. Поляков, И. О. Толстов,...</td>\n",
       "      <td>Б.~Г.~Фрейнкман, С.~В.~Поляков, И.~О.~Толстов</td>\n",
       "      <td>Расчет основного состояния электрона в неоднор...</td>\n",
       "      <td>Препринты ИПМ им.~М.~В.~Келдыша</td>\n",
       "      <td>2021</td>\n",
       "      <td>None</td>\n",
       "      <td>None</td>\n",
       "      <td>None</td>\n",
       "    </tr>\n",
       "  </tbody>\n",
       "</table>\n",
       "</div>"
      ],
      "text/plain": [
       "                             author_id  \\\n",
       "vyurv213       [113970, 148811, 22428]   \n",
       "vyurv1                 [113970, 22428]   \n",
       "vyurv46                [113970, 22428]   \n",
       "ipmp2988  [25339, 26426, 31779, 26427]   \n",
       "ipmp2939       [101245, 25339, 163334]   \n",
       "\n",
       "                                                        doi        udk  \\\n",
       "vyurv213  <a class=\"SLink\" href=\"https://doi.org/10.1452...  004.052.3   \n",
       "vyurv1    <a class=\"SLink\" href=\"https://doi.org/10.1452...  004.052.3   \n",
       "vyurv46                                                None  004.052.3   \n",
       "ipmp2988            :https://doi.org/10.20948/prepr-2021-71       None   \n",
       "ipmp2939            :https://doi.org/10.20948/prepr-2021-21       None   \n",
       "\n",
       "                 send      type  \\\n",
       "vyurv213   20.11.2018    Статья   \n",
       "vyurv1     13.04.2015    Статья   \n",
       "vyurv46    05.08.2014    Статья   \n",
       "ipmp2988         None  Препринт   \n",
       "ipmp2939         None  Препринт   \n",
       "\n",
       "                                                  reference  \\\n",
       "vyurv213  А. А. Бондаренко, П. А. Ляхов, М. В. Якобовски...   \n",
       "vyurv1    А. А. Бондаренко, М. В. Якобовский, “Моделиров...   \n",
       "vyurv46   А. А. Бондаренко, М. В. Якобовский, “Обеспечен...   \n",
       "ipmp2988  С. В. Поляков, М. А. Трапезникова, А. Г. Чурба...   \n",
       "ipmp2939  Б. Г. Фрейнкман, С. В. Поляков, И. О. Толстов,...   \n",
       "\n",
       "                                                         by  \\\n",
       "vyurv213    А.~А.~Бондаренко, П.~А.~Ляхов, М.~В.~Якобовский   \n",
       "vyurv1                   А.~А.~Бондаренко, М.~В.~Якобовский   \n",
       "vyurv46                  А.~А.~Бондаренко, М.~В.~Якобовский   \n",
       "ipmp2988  С.~В.~Поляков, М.~А.~Трапезникова, А.~Г.~Чурба...   \n",
       "ipmp2939      Б.~Г.~Фрейнкман, С.~В.~Поляков, И.~О.~Толстов   \n",
       "\n",
       "                                                      paper  \\\n",
       "vyurv213  Координированное сохранение с журналированием ...   \n",
       "vyurv1    Моделирование отказов в высокопроизводительных...   \n",
       "vyurv46   Обеспечение отказоустойчивости высокопроизводи...   \n",
       "ipmp2988  Расчет несжимаемых течений в системе &lt;&lt;п...   \n",
       "ipmp2939  Расчет основного состояния электрона в неоднор...   \n",
       "\n",
       "                                            jour    yr   vol issue   pages  \n",
       "vyurv213  Вестн. ЮУрГУ. Сер. Выч. матем. информ.  2019     8     2  76--91  \n",
       "vyurv1    Вестн. ЮУрГУ. Сер. Выч. матем. информ.  2015     4     3   5--12  \n",
       "vyurv46   Вестн. ЮУрГУ. Сер. Выч. матем. информ.  2014     3     3  20--36  \n",
       "ipmp2988         Препринты ИПМ им.~М.~В.~Келдыша  2021  None  None    None  \n",
       "ipmp2939         Препринты ИПМ им.~М.~В.~Келдыша  2021  None  None    None  "
      ]
     },
     "execution_count": 27,
     "metadata": {},
     "output_type": "execute_result"
    }
   ],
   "source": [
    "pub.head()"
   ]
  },
  {
   "cell_type": "code",
   "execution_count": 28,
   "metadata": {},
   "outputs": [
    {
     "data": {
      "image/png": "[encoded data removed]",
      "text/plain": [
       "<Figure size 576x360 with 1 Axes>"
      ]
     },
     "metadata": {
      "needs_background": "light"
     },
     "output_type": "display_data"
    }
   ],
   "source": [
    "\n",
    "# pub.value_counts(['yr']).sort_values().plot(kind='bar')\n",
    "# print(pub.value_counts(['yr']).head(100).sort_values().index)\n",
    "\n",
    "# plt.xticks(y_pos, bars, rotation=90)\n",
    "# use('ggplot')\n",
    "pub.groupby(['yr']).size().reset_index(name='counts').plot('yr','counts',kind='bar',figsize=(8,5))\n",
    "plt.xlabel(\"\")\n",
    "plt.show()"
   ]
  },
  {
   "cell_type": "code",
   "execution_count": 29,
   "metadata": {},
   "outputs": [
    {
     "ename": "NameError",
     "evalue": "name 'prent' is not defined",
     "output_type": "error",
     "traceback": [
      "\u001b[1;31m---------------------------------------------------------------------------\u001b[0m",
      "\u001b[1;31mNameError\u001b[0m                                 Traceback (most recent call last)",
      "\u001b[1;32mg:\\2022\\git_folder\\papers-analysis\\notebooks\\EDA.ipynb Cell 40'\u001b[0m in \u001b[0;36m<cell line: 1>\u001b[1;34m()\u001b[0m\n\u001b[1;32m----> <a href='vscode-notebook-cell:/g%3A/2022/git_folder/papers-analysis/notebooks/EDA.ipynb#ch0000066?line=0'>1</a>\u001b[0m prent\n",
      "\u001b[1;31mNameError\u001b[0m: name 'prent' is not defined"
     ]
    }
   ],
   "source": [
    "prent"
   ]
  },
  {
   "cell_type": "code",
   "execution_count": null,
   "metadata": {},
   "outputs": [],
   "source": [
    "# import nltk \n",
    "# nltk.download('stopwords')\n",
    "# stop_words = nltk.corpus.stopwords.words('russian')"
   ]
  },
  {
   "cell_type": "code",
   "execution_count": null,
   "metadata": {},
   "outputs": [],
   "source": [
    "# import pickle\n",
    "# filename = '../data/ru_stop_words.pkl'\n",
    "# with open(filename,'wb') as outp:\n",
    "#     pickle.dump(stop_words, outp, pickle.HIGHEST_PROTOCOL)\n",
    "\n",
    "# filename = '../data/mnid_author_dict.pkl'    \n",
    "# with open(filename,'wb') as outp:\n",
    "#     pickle.dump(authors_dict2, outp, pickle.HIGHEST_PROTOCOL)"
   ]
  },
  {
   "cell_type": "code",
   "execution_count": null,
   "metadata": {},
   "outputs": [],
   "source": [
    "print(type(stop_words))"
   ]
  },
  {
   "cell_type": "code",
   "execution_count": null,
   "metadata": {},
   "outputs": [],
   "source": [
    "from datetime import datetime\n",
    "\n",
    "print(datetime.fromisoformat('2011-11-04'))\n",
    "dt = 1653224345"
   ]
  },
  {
   "cell_type": "code",
   "execution_count": null,
   "metadata": {},
   "outputs": [],
   "source": [
    "messageTime = datetime.utcfromtimestamp(dt)\n",
    "print(messageTime)\n",
    "messageTime = messageTime.strftime('%Y-%m-%d %H:%M:%S') # formatted datetime\n",
    "print(messageTime)"
   ]
  },
  {
   "cell_type": "code",
   "execution_count": null,
   "metadata": {},
   "outputs": [],
   "source": [
    "print(messageTime)"
   ]
  },
  {
   "cell_type": "code",
   "execution_count": null,
   "metadata": {},
   "outputs": [],
   "source": [
    "buttons_for_menu = ['поиск по ключевым словам', 'поиск по фамилии', 'информация о боте']\n",
    "print(' '.join(buttons_for_menu))\n"
   ]
  },
  {
   "cell_type": "code",
   "execution_count": null,
   "metadata": {},
   "outputs": [],
   "source": [
    "# item = 'поиск по ключевым словам'\n",
    "# item2 = 'поиск по фамилии'\n",
    "# if item in buttons_for_menu:\n",
    "#     print(item)\n",
    "# print(buttons_for_menu.index('item2'))"
   ]
  },
  {
   "cell_type": "code",
   "execution_count": null,
   "metadata": {},
   "outputs": [],
   "source": [
    "from model import Model \n",
    "mod = Model()"
   ]
  },
  {
   "cell_type": "code",
   "execution_count": null,
   "metadata": {},
   "outputs": [],
   "source": [
    "t = mod.get_model_response('параллельный алгоритм поиска')\n",
    "print(t)"
   ]
  },
  {
   "cell_type": "code",
   "execution_count": null,
   "metadata": {},
   "outputs": [],
   "source": [
    "t = mod.get_model_response('параллельный поиска алгоритм')\n",
    "print(t)"
   ]
  },
  {
   "cell_type": "code",
   "execution_count": null,
   "metadata": {},
   "outputs": [],
   "source": [
    "t = mod.get_model_response('алгоритм параллельный поиска')\n",
    "print(t)"
   ]
  },
  {
   "cell_type": "code",
   "execution_count": null,
   "metadata": {},
   "outputs": [],
   "source": [
    "t = mod.get_model_response('алгоритм поиска параллельный')\n",
    "print(t)"
   ]
  },
  {
   "cell_type": "code",
   "execution_count": null,
   "metadata": {},
   "outputs": [],
   "source": [
    "t = mod.get_model_response('поиска параллельный алгоритм') #3-1-2\n",
    "print(t)"
   ]
  },
  {
   "cell_type": "code",
   "execution_count": null,
   "metadata": {},
   "outputs": [],
   "source": [
    "t = mod.get_model_response('поиска алгоритм параллельный')\n",
    "print(t)"
   ]
  },
  {
   "cell_type": "code",
   "execution_count": null,
   "metadata": {},
   "outputs": [],
   "source": [
    "t = mod.get_model_response('параллельный алгоритм')\n",
    "print(t)"
   ]
  },
  {
   "cell_type": "code",
   "execution_count": null,
   "metadata": {},
   "outputs": [],
   "source": [
    "t = mod.get_model_response('алгоритм параллельный')\n",
    "print(t)"
   ]
  },
  {
   "cell_type": "code",
   "execution_count": null,
   "metadata": {},
   "outputs": [],
   "source": [
    "t = mod.get_model_response('алгоритм поиска')\n",
    "print(t)"
   ]
  },
  {
   "cell_type": "code",
   "execution_count": null,
   "metadata": {},
   "outputs": [],
   "source": [
    "t = mod.get_model_response('поиска алгоритм')\n",
    "print(t)"
   ]
  },
  {
   "cell_type": "code",
   "execution_count": null,
   "metadata": {},
   "outputs": [],
   "source": [
    "t = mod.get_model_response('параллельный поиска')\n",
    "print(t)"
   ]
  },
  {
   "cell_type": "code",
   "execution_count": null,
   "metadata": {},
   "outputs": [],
   "source": [
    "t = mod.get_model_response('поиска параллельный')\n",
    "print(t)"
   ]
  },
  {
   "cell_type": "code",
   "execution_count": null,
   "metadata": {},
   "outputs": [],
   "source": [
    "t = mod.get_model_response('параллельный')\n",
    "print(t)"
   ]
  },
  {
   "cell_type": "code",
   "execution_count": null,
   "metadata": {},
   "outputs": [],
   "source": [
    "t = mod.get_model_response('алгоритм')\n",
    "print(t)"
   ]
  },
  {
   "cell_type": "code",
   "execution_count": null,
   "metadata": {},
   "outputs": [],
   "source": [
    "t = mod.get_model_response('поиска')\n",
    "print(t)"
   ]
  },
  {
   "cell_type": "code",
   "execution_count": null,
   "metadata": {},
   "outputs": [],
   "source": [
    "mod.get_model_response('суперкомпьютерное моделирование газодинамический')"
   ]
  },
  {
   "cell_type": "code",
   "execution_count": null,
   "metadata": {},
   "outputs": [],
   "source": [
    "print(mod.audb.db['21356']['ipmp221'])"
   ]
  },
  {
   "cell_type": "code",
   "execution_count": null,
   "metadata": {},
   "outputs": [],
   "source": [
    "print(len(mod.audb.db['21356']))"
   ]
  },
  {
   "cell_type": "code",
   "execution_count": null,
   "metadata": {},
   "outputs": [],
   "source": [
    "mod.get_authors_last_papers(',Павловский..?')"
   ]
  },
  {
   "cell_type": "code",
   "execution_count": null,
   "metadata": {},
   "outputs": [],
   "source": []
  }
 ],
 "metadata": {
  "interpreter": {
   "hash": "5d6f671cb4cf511d2ed9bdc94976a7d6a33f5397885a0aeec498474d8c496680"
  },
  "kernelspec": {
   "display_name": "Python 3.10.4 ('tbot4papersanalysis.venv': venv)",
   "language": "python",
   "name": "python3"
  },
  "language_info": {
   "codemirror_mode": {
    "name": "ipython",
    "version": 3
   },
   "file_extension": ".py",
   "mimetype": "text/x-python",
   "name": "python",
   "nbconvert_exporter": "python",
   "pygments_lexer": "ipython3",
   "version": "3.10.4"
  },
  "orig_nbformat": 4
 },
 "nbformat": 4,
 "nbformat_minor": 2
}
