{
 "cells": [
  {
   "cell_type": "code",
   "execution_count": 1,
   "id": "3b05f126",
   "metadata": {},
   "outputs": [],
   "source": [
    "import pickle\n",
    "from bs4 import BeautifulSoup"
   ]
  },
  {
   "cell_type": "code",
   "execution_count": 2,
   "id": "a2e6b134",
   "metadata": {},
   "outputs": [],
   "source": [
    "filename = \"./data/one_page.pkl\"\n",
    "with open(filename,'rb') as inp:\n",
    "    html = pickle.load(inp)"
   ]
  },
  {
   "cell_type": "code",
   "execution_count": 3,
   "id": "b86bb7ed",
   "metadata": {},
   "outputs": [],
   "source": [
    "soup = BeautifulSoup(html, 'html.parser')"
   ]
  },
  {
   "cell_type": "code",
   "execution_count": 4,
   "id": "e69d8580",
   "metadata": {},
   "outputs": [
    {
     "name": "stdout",
     "output_type": "stream",
     "text": [
      "<!DOCTYPE html>\n",
      "<html>\n",
      " <head>\n",
      "  <meta content=\"noarchive\" name=\"robots\"/>\n",
      "  <meta content=\"Безопасная отечественная операционная система, надежные приложения, переменные вместо файловой системы, гарантированная сохранность данных, низкая стоимость программирования - ОС «Фантом».\" name=\"description\"/>\n",
      "  <title>\n",
      "   Полшага до «Фантома»\n",
      "  </title>\n",
      "  <meta content=\"https://elibrary.ru/images/elibrary_fb.png\" property=\"og:image\"/>\n",
      "  <meta content=\"width=device-width, initial-scale=1.0, maximum-scale=1.0, user-scalable=yes\" name=\"viewport\"/>\n",
      "  <meta content=\"10.51793/OS.2022.13.25.001\" name=\"doi\"/>\n",
      "  <script src=\"/jquery.min.js\" type=\"text/javascript\">\n",
      "  </script>\n",
      "  <script src=\"/jquery.tools.min.js\" type=\"text/javascript\">\n",
      "  </script>\n",
      "  <script src=\"/fancybox/jquery.fancybox-1.3.4.pack.js\" type=\"text/javascript\">\n",
      "  </script>\n",
      "  <script src=\"/fancybox/jquery.easydrag.js\" type=\"text/javascript\">\n",
      "  </script>\n",
      "  <script src=\"/elibrary.js\" type=\"text/javascript\">\n",
      "  </script>\n",
      "  <script src=\"/MathJax/MathJax.js?config=TeX-AMS-MML_HTMLorMML\" type=\"text/javascript\">\n",
      "  </script>\n",
      "  <link href=\"/fancybox/jquery.fancybox-1.3.4.css\" media=\"screen\" rel=\"stylesheet\" type=\"text/css\"/>\n",
      "  <link href=\"/style_sm.css\" media=\"screen\" rel=\"stylesheet\" type=\"text/css\"/>\n",
      "  <script language=\"JavaScript\">\n",
      "   but_blue_hover=new Image();\r\n",
      "but_blue_hover.src=\"/images/but_blue_hover.png\";\r\n",
      "but_red_hover=new Image();\r\n",
      "but_red_hover.src=\"/images/but_red_hover.png\";\r\n",
      "but_gray_hover=new Image();\r\n",
      "but_gray_hover.src=\"/images/but_gray_hover.png\";\r\n",
      "ref_down=new Image();\r\n",
      "ref_down.src=\"/images/but_orange_down.gif\";\r\n",
      "ref_up=new Image();\r\n",
      "ref_up.src=\"/images/but_orange_up.gif\";\r\n",
      "comment_exist=new Image();\r\n",
      "comment_exist.src=\"/images/comments-r.png\";\r\n",
      "comment_absent=new Image();\r\n",
      "comment_absent.src=\"/images/comments-g.png\";\r\n",
      "\r\n",
      "function load_article(iid){\r\n",
      "\r\n",
      "  alerts(\"Для доступа к полному тексту необходимо вначале войти в библиотеку!\");\r\n",
      "  document.getElementById(\"win_login\").className = \"expanded\";\r\n",
      "  document.ge\n"
     ]
    }
   ],
   "source": [
    "print(soup.prettify()[:2000])"
   ]
  },
  {
   "cell_type": "code",
   "execution_count": 5,
   "id": "7f036839",
   "metadata": {},
   "outputs": [
    {
     "name": "stdout",
     "output_type": "stream",
     "text": [
      "xt/javascript\">\n",
      "    (function(w, c) {\r\n",
      "    (w[c] = w[c] || []).push(function() {\r\n",
      "        try {\r\n",
      "            w.yaCounter171463 = new Ya.Metrika(171463);\r\n",
      "        } catch(e) {}\r\n",
      "    });\r\n",
      "})(window, 'yandex_metrika_callbacks');\n",
      "   </script>\n",
      "  </div>\n",
      "  <script defer=\"defer\" src=\"//mc.yandex.ru/metrika/watch.js\" type=\"text/javascript\">\n",
      "  </script>\n",
      "  <noscript>\n",
      "   <div style=\"position:absolute\">\n",
      "    <img alt=\"\" src=\"//mc.yandex.ru/watch/171463\"/>\n",
      "   </div>\n",
      "  </noscript>\n",
      "  <!-- /Yandex.Metrika -->\n",
      "  <script type=\"text/javascript\">\n",
      "   var _gaq = _gaq || [];\r\n",
      "_gaq.push(['_setAccount', 'UA-9339902-1']);\r\n",
      "_gaq.push(['_trackPageview']);\r\n",
      "(function() {\r\n",
      "var ga = document.createElement('script'); ga.type = 'text/javascript'; ga.async = true;\r\n",
      "ga.src = ('https:' == document.location.protocol ? 'https://ssl' : 'http://www') + '.google-analytics.com/ga.js';\r\n",
      "var s = document.getElementsByTagName('script')[0]; s.parentNode.insertBefore(ga, s); })();\n",
      "  </script>\n",
      "  <br/>\n",
      "  <br/>\n",
      "  <br/>\n",
      " </body>\n",
      "</html>\n",
      "\n"
     ]
    }
   ],
   "source": [
    "print(soup.prettify()[-1000:])"
   ]
  },
  {
   "cell_type": "code",
   "execution_count": null,
   "id": "b4642b6c",
   "metadata": {},
   "outputs": [],
   "source": []
  }
 ],
 "metadata": {
  "kernelspec": {
   "display_name": "Python 3",
   "language": "python",
   "name": "python3"
  },
  "language_info": {
   "codemirror_mode": {
    "name": "ipython",
    "version": 3
   },
   "file_extension": ".py",
   "mimetype": "text/x-python",
   "name": "python",
   "nbconvert_exporter": "python",
   "pygments_lexer": "ipython3",
   "version": "3.8.8"
  }
 },
 "nbformat": 4,
 "nbformat_minor": 5
}
